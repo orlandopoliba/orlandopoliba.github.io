{
 "cells": [
  {
   "cell_type": "markdown",
   "metadata": {},
   "source": [
    "# Problema dei 100 prigionieri\n",
    " \n",
    "Il direttore di un carcere offre un'ultima possibilità a 100 condannati a morte, numerati da 1 a 100. Una stanza contiene un armadio con 100 cassetti. Il direttore distribuisce uniformemente a caso i numeri dei prigionieri nei cassetti, che vengono chiusi. I prigionieri entrano nella stanza, uno dopo l'altro. Ogni prigioniero può aprire e guardare in 50 cassetti in un ordine scelto da lui. Prima di uscire deve richiudere i cassetti. Se ogni detenuto trova il proprio numero in uno dei cassetti, tutti i detenuti sono graziati. Se anche un solo prigioniero non trova il suo numero, tutti i prigionieri moriranno. \n",
    "    \n",
    "Prima che il primo prigioniero entri nella stanza, i prigionieri possono discutere la strategia, ma non possono comunicare una volta che il primo prigioniero entra per guardare nei cassetti.\n",
    "    \n",
    "Trovare una strategia per i detenuti che permetta loro di essere graziati con almeno il 30\\% di probabilità."
   ]
  },
  {
   "cell_type": "markdown",
   "metadata": {},
   "source": [
    "Importiamo le librerie di python necessarie."
   ]
  },
  {
   "cell_type": "code",
   "execution_count": 30,
   "metadata": {},
   "outputs": [],
   "source": [
    "import random\n",
    "import numpy as np"
   ]
  },
  {
   "cell_type": "markdown",
   "metadata": {},
   "source": [
    "Lo spazio degli eventi elementari è:\n",
    "$$\n",
    "\\Omega = \\{(\\omega_1, \\dots, \\omega_{100}) \\text{ permutazioni di } (1,\\dots, 100)\\}\n",
    "$$\n",
    "che descrive le possibili realizzazioni di assegnazioni di numeri a cassetti: $\\omega_7 = 81$ vuol dire che nel settimo cassetto è stato inserito il numero $81$."
   ]
  },
  {
   "cell_type": "markdown",
   "metadata": {},
   "source": [
    "Definiamo la funzione `drawers` che crea una realizzazione dell'esperimento probabilistico, cioè riempie in modo casuale $N$ cassetti con numeri da 1 a $N$."
   ]
  },
  {
   "cell_type": "code",
   "execution_count": 31,
   "metadata": {},
   "outputs": [],
   "source": [
    "# creazione dei cassetti con i numeri\n",
    "\n",
    "def drawers(N):\n",
    "    selected_permutation = np.random.permutation(N)\n",
    "    selected_drawers = [i+1 for i in selected_permutation]\n",
    "    return selected_drawers"
   ]
  },
  {
   "cell_type": "code",
   "execution_count": 32,
   "metadata": {},
   "outputs": [
    {
     "data": {
      "text/plain": [
       "[5, 9, 1, 8, 3, 10, 7, 4, 6, 2]"
      ]
     },
     "execution_count": 32,
     "metadata": {},
     "output_type": "execute_result"
    }
   ],
   "source": [
    "# esempio con 10 prigionieri e 10 cassetti (100 è un vettore un po' grande da visualizzare)\n",
    "\n",
    "drawers(10)"
   ]
  },
  {
   "cell_type": "markdown",
   "metadata": {},
   "source": [
    "La funzione `random_strategy_successful` restituisce valore `True` o `False`. Implementa la strategia \"ogni prigioniero sceglie a caso $N/2$ cassetti\". Se la strategia risulta vincente, la funzione restituisce `True`."
   ]
  },
  {
   "cell_type": "code",
   "execution_count": 33,
   "metadata": {},
   "outputs": [],
   "source": [
    "# strategia non ottimale: scelta casuale dei cassetti\n",
    "\n",
    "def random_strategy_successful(N):\n",
    "\n",
    "    strategy_successful = True # inizializziamo una flag\n",
    "\n",
    "    prisoner_number = 1 # partiamo dal primo prigioniero\n",
    "\n",
    "    realization_of_drawers = drawers(N) # generazione dei cassetti\n",
    "    \n",
    "    while prisoner_number < N + 1 and strategy_successful:\n",
    "\n",
    "        random_choice_of_drawers = random.sample(realization_of_drawers, int(N/2)) # sceglie la metà dei cassetti\n",
    "\n",
    "        if not(prisoner_number in random_choice_of_drawers):\n",
    "            strategy_successful = False\n",
    "            \n",
    "        prisoner_number = prisoner_number + 1\n",
    "    \n",
    "    return(strategy_successful)\n"
   ]
  },
  {
   "cell_type": "markdown",
   "metadata": {},
   "source": [
    "Ripetiamo 1000 volte l'esperimento: per ogni esperimento vengono scelti $N$ nuovi prigionieri, viene generato casualmente il contenuto dei cassetti, i prigionieri provano con la strategia \"scelgo a caso $N/2$ cassetti\" e ci si appunta se ha funzionato.\n",
    "\n",
    "Facciamo l'esperimento con $N=2,6,100$ prigionieri e stampiamo la percentuale di volte che l'esperimento ha successo."
   ]
  },
  {
   "cell_type": "code",
   "execution_count": 34,
   "metadata": {},
   "outputs": [
    {
     "name": "stdout",
     "output_type": "stream",
     "text": [
      "Success rate: 21.9%\n"
     ]
    }
   ],
   "source": [
    "N = 2\n",
    "number_of_successes = 0\n",
    "number_of_trials = 1000\n",
    "for i in range(number_of_trials):\n",
    "    if random_strategy_successful(N):\n",
    "        number_of_successes = number_of_successes + 1\n",
    "print(\"Success rate: \", number_of_successes/number_of_trials*100, \"%\", sep = '')"
   ]
  },
  {
   "cell_type": "code",
   "execution_count": 35,
   "metadata": {},
   "outputs": [
    {
     "name": "stdout",
     "output_type": "stream",
     "text": [
      "Success rate: 1.7000000000000002%\n"
     ]
    }
   ],
   "source": [
    "N = 6\n",
    "number_of_successes = 0\n",
    "number_of_trials = 1000\n",
    "for i in range(number_of_trials):\n",
    "    if random_strategy_successful(N):\n",
    "        number_of_successes = number_of_successes + 1\n",
    "print(\"Success rate: \", number_of_successes/number_of_trials*100, \"%\", sep = '')"
   ]
  },
  {
   "cell_type": "code",
   "execution_count": 36,
   "metadata": {},
   "outputs": [
    {
     "name": "stdout",
     "output_type": "stream",
     "text": [
      "Success rate: 0.0%\n"
     ]
    }
   ],
   "source": [
    "N = 100\n",
    "number_of_successes = 0\n",
    "number_of_trials = 1000\n",
    "for i in range(number_of_trials):\n",
    "    if random_strategy_successful(N):\n",
    "        number_of_successes = number_of_successes + 1\n",
    "print(\"Success rate: \", number_of_successes/number_of_trials*100, \"%\", sep = '')"
   ]
  },
  {
   "cell_type": "markdown",
   "metadata": {},
   "source": [
    "Quindi con 100 prigionieri la probabilità che la strategia casuale abbia successo è praticamente nulla. \n",
    "\n",
    "Si può calcolare che la probabilità che la strategia casuale abbia successo è $1/2^{100}$ (prove indipendenti ripetute, ciascuna con probabilità $1/2$)."
   ]
  },
  {
   "cell_type": "code",
   "execution_count": 37,
   "metadata": {},
   "outputs": [
    {
     "data": {
      "text/plain": [
       "7.888609052210118e-31"
      ]
     },
     "execution_count": 37,
     "metadata": {},
     "output_type": "execute_result"
    }
   ],
   "source": [
    "1/2**100"
   ]
  },
  {
   "cell_type": "markdown",
   "metadata": {},
   "source": [
    "Implementiamo la strategia ottimale. L'argomento `\"-v\"` nella funzione fa stampare cosa fanno i prigionieri."
   ]
  },
  {
   "cell_type": "code",
   "execution_count": 38,
   "metadata": {},
   "outputs": [],
   "source": [
    "# strategia ottimale: scelta dei cassetti con criterio\n",
    "\n",
    "def optimal_strategy_successful(N,v=\"\"):\n",
    "\n",
    "    strategy_successful = True # inizializziamo una flag\n",
    "\n",
    "    prisoner_number = 1 # partiamo dal primo prigioniero\n",
    "\n",
    "    realization_of_drawers = drawers(N)\n",
    "    \n",
    "    if v == \"-v\":\n",
    "        print(\"Realization of drawers: \", realization_of_drawers)\n",
    "\n",
    "    while prisoner_number < N + 1 and strategy_successful:\n",
    "        \n",
    "        if v == \"-v\":\n",
    "            print(\"---\")\n",
    "            print(\"Prisoner \", prisoner_number, \" enters the room and opens drawers.\", sep=\"\") \n",
    "        \n",
    "        i = 0\n",
    "        opened_drawer = prisoner_number-1\n",
    "        \n",
    "        found = False # inizializziamo\n",
    "        \n",
    "        while i < int(N/2) and not(found):\n",
    "            if v == \"-v\":\n",
    "                print(\"Opened drawer:\", opened_drawer+1)\n",
    "                print(\"Drawer content:\", realization_of_drawers[opened_drawer])\n",
    "            if realization_of_drawers[opened_drawer] == prisoner_number:\n",
    "                found = True\n",
    "                if v == \"-v\":\n",
    "                    print(\"Prisoner \", prisoner_number, \" found his number :)\", sep=\"\")\n",
    "            i = i+1\n",
    "            opened_drawer = realization_of_drawers[opened_drawer] - 1\n",
    "        \n",
    "        if not(found):\n",
    "            strategy_successful = False \n",
    "            if v == \"-v\":\n",
    "                print(\"Prisoner \", prisoner_number, \" did not find his number :(\", sep=\"\")\n",
    "        \n",
    "        prisoner_number = prisoner_number + 1\n",
    "    \n",
    "    return(strategy_successful)"
   ]
  },
  {
   "cell_type": "code",
   "execution_count": 39,
   "metadata": {},
   "outputs": [
    {
     "name": "stdout",
     "output_type": "stream",
     "text": [
      "Realization of drawers:  [5, 6, 3, 4, 1, 2]\n",
      "---\n",
      "Prisoner 1 enters the room and opens drawers.\n",
      "Opened drawer: 1\n",
      "Drawer content: 5\n",
      "Opened drawer: 5\n",
      "Drawer content: 1\n",
      "Prisoner 1 found his number :)\n",
      "---\n",
      "Prisoner 2 enters the room and opens drawers.\n",
      "Opened drawer: 2\n",
      "Drawer content: 6\n",
      "Opened drawer: 6\n",
      "Drawer content: 2\n",
      "Prisoner 2 found his number :)\n",
      "---\n",
      "Prisoner 3 enters the room and opens drawers.\n",
      "Opened drawer: 3\n",
      "Drawer content: 3\n",
      "Prisoner 3 found his number :)\n",
      "---\n",
      "Prisoner 4 enters the room and opens drawers.\n",
      "Opened drawer: 4\n",
      "Drawer content: 4\n",
      "Prisoner 4 found his number :)\n",
      "---\n",
      "Prisoner 5 enters the room and opens drawers.\n",
      "Opened drawer: 5\n",
      "Drawer content: 1\n",
      "Opened drawer: 1\n",
      "Drawer content: 5\n",
      "Prisoner 5 found his number :)\n",
      "---\n",
      "Prisoner 6 enters the room and opens drawers.\n",
      "Opened drawer: 6\n",
      "Drawer content: 2\n",
      "Opened drawer: 2\n",
      "Drawer content: 6\n",
      "Prisoner 6 found his number :)\n",
      "***\n",
      "Strategy was successful: True\n"
     ]
    }
   ],
   "source": [
    "result = optimal_strategy_successful(6,\"-v\")\n",
    "print(\"***\")\n",
    "print(\"Strategy was successful:\", result)"
   ]
  },
  {
   "cell_type": "markdown",
   "metadata": {},
   "source": [
    "Ripetiamo l'esperimento 1000 volte con 100 prigionieri."
   ]
  },
  {
   "cell_type": "code",
   "execution_count": 40,
   "metadata": {},
   "outputs": [
    {
     "name": "stdout",
     "output_type": "stream",
     "text": [
      "Success rate: 30.2%\n"
     ]
    }
   ],
   "source": [
    "N = 100\n",
    "number_of_successes = 0\n",
    "number_of_trials = 1000\n",
    "for i in range(number_of_trials):\n",
    "    if optimal_strategy_successful(N):\n",
    "        number_of_successes = number_of_successes + 1\n",
    "\n",
    "print(\"Success rate: \", number_of_successes/number_of_trials*100, \"%\", sep = '')"
   ]
  },
  {
   "cell_type": "markdown",
   "metadata": {},
   "source": [
    "Incredibile: son sopravvissuti circa il 30% delle volte!"
   ]
  }
 ],
 "metadata": {
  "interpreter": {
   "hash": "aee8b7b246df8f9039afb4144a1f6fd8d2ca17a180786b69acc140d282b71a49"
  },
  "kernelspec": {
   "display_name": "Python 3.9.0 64-bit",
   "language": "python",
   "name": "python3"
  },
  "language_info": {
   "codemirror_mode": {
    "name": "ipython",
    "version": 3
   },
   "file_extension": ".py",
   "mimetype": "text/x-python",
   "name": "python",
   "nbconvert_exporter": "python",
   "pygments_lexer": "ipython3",
   "version": "3.9.0"
  },
  "orig_nbformat": 4
 },
 "nbformat": 4,
 "nbformat_minor": 2
}
