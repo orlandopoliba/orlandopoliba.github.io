{
 "cells": [
  {
   "cell_type": "code",
   "execution_count": 1664,
   "metadata": {},
   "outputs": [],
   "source": [
    "import itertools\n",
    "import array\n",
    "import random\n",
    "import math\n",
    "import numpy as np"
   ]
  },
  {
   "cell_type": "code",
   "execution_count": 1665,
   "metadata": {},
   "outputs": [],
   "source": [
    "# creazione dei cassetti con i numeri\n",
    "\n",
    "def drawers(N):\n",
    "    selected_permutation = np.random.permutation(N)\n",
    "    selected_drawers = [i+1 for i in selected_permutation]\n",
    "    return selected_drawers"
   ]
  },
  {
   "cell_type": "code",
   "execution_count": 1666,
   "metadata": {},
   "outputs": [
    {
     "data": {
      "text/plain": [
       "[2, 5, 4, 6, 1, 3]"
      ]
     },
     "execution_count": 1666,
     "metadata": {},
     "output_type": "execute_result"
    }
   ],
   "source": [
    "# esempio \n",
    "\n",
    "drawers(6)"
   ]
  },
  {
   "cell_type": "code",
   "execution_count": 1667,
   "metadata": {},
   "outputs": [],
   "source": [
    "# strategia non ottimale: scelta casuale dei cassetti\n",
    "\n",
    "def non_optimal_strategy_successful(N):\n",
    "\n",
    "    strategy_successful = True # inizializziamo una flag\n",
    "\n",
    "    prisoner_number = 1 # partiamo dal primo prigioniero\n",
    "\n",
    "    realization_of_drawers = drawers(N)\n",
    "    \n",
    "    while prisoner_number < N + 1 and strategy_successful:\n",
    "\n",
    "        random_choice_of_drawers = random.sample(realization_of_drawers, int(N/2))# sceglie la metà dei cassetti\n",
    "\n",
    "        if not(prisoner_number in random_choice_of_drawers):\n",
    "            strategy_successful = False\n",
    "            \n",
    "        prisoner_number = prisoner_number + 1\n",
    "    \n",
    "    return(strategy_successful)\n"
   ]
  },
  {
   "cell_type": "code",
   "execution_count": 1668,
   "metadata": {},
   "outputs": [
    {
     "name": "stdout",
     "output_type": "stream",
     "text": [
      "Success rate: 24.4%\n"
     ]
    }
   ],
   "source": [
    "N = 2\n",
    "number_of_successes = 0\n",
    "number_of_trials = 1000\n",
    "for i in range(number_of_trials):\n",
    "    if non_optimal_strategy_successful(N):\n",
    "        number_of_successes = number_of_successes + 1\n",
    "print(\"Success rate: \", number_of_successes/number_of_trials*100, \"%\", sep = '')"
   ]
  },
  {
   "cell_type": "markdown",
   "metadata": {},
   "source": [
    "Spazio degli eventi elementari: \n",
    "$$\\Omega = \\{ ((1,2),(1,1)), ((1,2),(1,2)), ((1,2),(2,1)), ((1,2),(2,2)), ((2,1),(1,1)) , ((2,1),(1,2)), ((2,1),(2,1)), ((2,1),(2,2)) \\} \\, .$$\n",
    "I successi sono \n",
    "$$A = \\{ ((1,2),(1,2)), ((2,1),(2,1)) \\} \\, .$$\n",
    "La probabilità è \n",
    "$$P(A) = \\frac{2}{8} = \\frac{1}{4} \\, .$$\n"
   ]
  },
  {
   "cell_type": "code",
   "execution_count": 1669,
   "metadata": {},
   "outputs": [
    {
     "name": "stdout",
     "output_type": "stream",
     "text": [
      "Success rate: 1.6%\n"
     ]
    }
   ],
   "source": [
    "N = 6\n",
    "number_of_successes = 0\n",
    "number_of_trials = 1000\n",
    "for i in range(number_of_trials):\n",
    "    if non_optimal_strategy_successful(N):\n",
    "        number_of_successes = number_of_successes + 1\n",
    "print(\"Success rate: \", number_of_successes/number_of_trials*100, \"%\", sep = '')"
   ]
  },
  {
   "cell_type": "code",
   "execution_count": 1670,
   "metadata": {},
   "outputs": [
    {
     "name": "stdout",
     "output_type": "stream",
     "text": [
      "Success rate: 0.0%\n"
     ]
    }
   ],
   "source": [
    "N = 100\n",
    "number_of_successes = 0\n",
    "number_of_trials = 1000\n",
    "for i in range(number_of_trials):\n",
    "    if non_optimal_strategy_successful(N):\n",
    "        number_of_successes = number_of_successes + 1\n",
    "print(\"Success rate: \", number_of_successes/number_of_trials*100, \"%\", sep = '')"
   ]
  },
  {
   "cell_type": "code",
   "execution_count": 1671,
   "metadata": {},
   "outputs": [],
   "source": [
    "# strategia ottimale: scelta dei cassetti con criterio\n",
    "\n",
    "def optimal_strategy_successful(N,v=\"\"):\n",
    "\n",
    "    strategy_successful = True # inizializziamo una flag\n",
    "\n",
    "    prisoner_number = 1 # partiamo dal primo prigioniero\n",
    "\n",
    "    realization_of_drawers = drawers(N)\n",
    "    \n",
    "    if v == \"-v\":\n",
    "        print(\"Realization of drawers: \", realization_of_drawers)\n",
    "\n",
    "    while prisoner_number < N + 1 and strategy_successful:\n",
    "        \n",
    "        if v == \"-v\":\n",
    "            print(\"---\")\n",
    "            print(\"Prisoner \", prisoner_number, \" enters the room and opens drawers.\", sep=\"\") \n",
    "        \n",
    "        i = 0\n",
    "        opened_drawer = prisoner_number-1\n",
    "        \n",
    "        found = False # inizializziamo\n",
    "        \n",
    "        while i < int(N/2) and not(found):\n",
    "            if v == \"-v\":\n",
    "                print(\"Opened drawer:\", opened_drawer+1)\n",
    "                print(\"Drawer content:\", realization_of_drawers[opened_drawer])\n",
    "            if realization_of_drawers[opened_drawer] == prisoner_number:\n",
    "                found = True\n",
    "                if v == \"-v\":\n",
    "                    print(\"Prisoner \", prisoner_number, \" found his number :)\", sep=\"\")\n",
    "            i = i+1\n",
    "            opened_drawer = realization_of_drawers[opened_drawer] - 1\n",
    "        \n",
    "        if not(found):\n",
    "            strategy_successful = False \n",
    "            if v == \"-v\":\n",
    "                print(\"Prisoner \", prisoner_number, \" did not find his number :(\", sep=\"\")\n",
    "        \n",
    "        prisoner_number = prisoner_number + 1\n",
    "    \n",
    "    return(strategy_successful)"
   ]
  },
  {
   "cell_type": "code",
   "execution_count": 1672,
   "metadata": {},
   "outputs": [
    {
     "name": "stdout",
     "output_type": "stream",
     "text": [
      "Realization of drawers:  [3, 5, 6, 4, 1, 2]\n",
      "---\n",
      "Prisoner 1 enters the room and opens drawers.\n",
      "Opened drawer: 1\n",
      "Drawer content: 3\n",
      "Opened drawer: 3\n",
      "Drawer content: 6\n",
      "Opened drawer: 6\n",
      "Drawer content: 2\n",
      "Prisoner 1 did not find his number :(\n"
     ]
    },
    {
     "data": {
      "text/plain": [
       "False"
      ]
     },
     "execution_count": 1672,
     "metadata": {},
     "output_type": "execute_result"
    }
   ],
   "source": [
    "optimal_strategy_successful(6,\"-v\")"
   ]
  },
  {
   "cell_type": "code",
   "execution_count": 1673,
   "metadata": {},
   "outputs": [
    {
     "name": "stdout",
     "output_type": "stream",
     "text": [
      "Success rate: 36.5%\n"
     ]
    }
   ],
   "source": [
    "N = 6\n",
    "number_of_successes = 0\n",
    "number_of_trials = 1000\n",
    "for i in range(number_of_trials):\n",
    "    if optimal_strategy_successful(N):\n",
    "        number_of_successes = number_of_successes + 1\n",
    "        \n",
    "print(\"Success rate: \", number_of_successes/number_of_trials*100, \"%\", sep = '')"
   ]
  },
  {
   "cell_type": "code",
   "execution_count": 1674,
   "metadata": {},
   "outputs": [
    {
     "name": "stdout",
     "output_type": "stream",
     "text": [
      "Success rate: 31.1%\n"
     ]
    }
   ],
   "source": [
    "N = 100\n",
    "number_of_successes = 0\n",
    "number_of_trials = 1000\n",
    "for i in range(number_of_trials):\n",
    "    if optimal_strategy_successful(N):\n",
    "        number_of_successes = number_of_successes + 1\n",
    "\n",
    "print(\"Success rate: \", number_of_successes/number_of_trials*100, \"%\", sep = '')"
   ]
  }
 ],
 "metadata": {
  "interpreter": {
   "hash": "aee8b7b246df8f9039afb4144a1f6fd8d2ca17a180786b69acc140d282b71a49"
  },
  "kernelspec": {
   "display_name": "Python 3.9.0 64-bit",
   "language": "python",
   "name": "python3"
  },
  "language_info": {
   "codemirror_mode": {
    "name": "ipython",
    "version": 3
   },
   "file_extension": ".py",
   "mimetype": "text/x-python",
   "name": "python",
   "nbconvert_exporter": "python",
   "pygments_lexer": "ipython3",
   "version": "3.9.0"
  },
  "orig_nbformat": 4
 },
 "nbformat": 4,
 "nbformat_minor": 2
}
