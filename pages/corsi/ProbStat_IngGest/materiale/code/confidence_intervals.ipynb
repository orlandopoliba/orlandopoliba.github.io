{
 "cells": [
  {
   "cell_type": "code",
   "execution_count": 837,
   "metadata": {},
   "outputs": [],
   "source": [
    "import numpy as np\n",
    "import math\n",
    "from scipy.stats import norm, chi2, t"
   ]
  },
  {
   "cell_type": "code",
   "execution_count": 838,
   "metadata": {},
   "outputs": [],
   "source": [
    "# parametri della popolazione\n",
    "\n",
    "mu = 7\n",
    "sigma = 2"
   ]
  },
  {
   "cell_type": "code",
   "execution_count": 839,
   "metadata": {},
   "outputs": [
    {
     "name": "stdout",
     "output_type": "stream",
     "text": [
      "[ 8.9892891   5.10172068  6.85666175  5.68769014  9.17581996  5.2925082\n",
      "  7.7820754   4.31326506  4.4380516   9.23219664  5.08782938  6.08674614\n",
      " 10.4954918   9.6989371   5.69384895]\n"
     ]
    }
   ],
   "source": [
    "# campione estratto\n",
    "\n",
    "n = 15\n",
    "\n",
    "# np.random.normal accetta come parametri mu e sigma (non sigma^2)\n",
    "X = np.random.normal(mu,sigma,n)\n",
    "\n",
    "print(X)"
   ]
  },
  {
   "cell_type": "code",
   "execution_count": 840,
   "metadata": {},
   "outputs": [
    {
     "name": "stdout",
     "output_type": "stream",
     "text": [
      "6.9288087919131796\n"
     ]
    }
   ],
   "source": [
    "# calcoliamo la media del campione\n",
    "\n",
    "X_bar = 1/n*np.sum(X)\n",
    "\n",
    "print(X_bar)"
   ]
  },
  {
   "cell_type": "code",
   "execution_count": 841,
   "metadata": {},
   "outputs": [
    {
     "name": "stdout",
     "output_type": "stream",
     "text": [
      "2.2701249980205214\n",
      "2.2701249980205214\n"
     ]
    }
   ],
   "source": [
    "# questa funzione calcola l'inversa della funzione di distribuzione cumulativa della gaussiana, quindi la usiamo per calcolare i quantili\n",
    "\n",
    "print(norm.ppf(0.9884))\n",
    "print(norm.isf(1-0.9884))"
   ]
  },
  {
   "cell_type": "code",
   "execution_count": 842,
   "metadata": {},
   "outputs": [
    {
     "name": "stdout",
     "output_type": "stream",
     "text": [
      "mu = 7 is in the 50% confidence interval     [6.580503782620243,7.2771138012061165]\n",
      "mu = 7 is in the 55% confidence interval     [6.5387141497039885,7.318903434122371]\n",
      "mu = 7 is in the 60% confidence interval     [6.494197455720855,7.3634201281055045]\n",
      "mu = 7 is in the 65% confidence interval     [6.4461889572636615,7.411428626562698]\n",
      "mu = 7 is in the 70% confidence interval     [6.393596890984813,7.4640206928415465]\n",
      "mu = 7 is in the 75% confidence interval     [6.33477092624434,7.522846657582019]\n",
      "mu = 7 is in the 80% confidence interval     [6.267018409158475,7.590599174667884]\n",
      "mu = 7 is in the 85% confidence interval     [6.185437936808365,7.672179647017994]\n",
      "mu = 7 is in the 90% confidence interval     [6.079410031362257,7.778207552464102]\n",
      "mu = 7 is in the 95% confidence interval     [5.916687742407852,7.940929841418507]\n"
     ]
    }
   ],
   "source": [
    "# calcoliamo una realizzazione degli estremi dell'intervallo di confidenza\n",
    "\n",
    "# caso della media incognita, varianza nota \n",
    "\n",
    "# facciamo una lista degli intervalli al variare del livello di confidenza\n",
    "\n",
    "for confidenceLevel in range(50,100,5):\n",
    "\n",
    "    alpha = 1-confidenceLevel/100\n",
    "\n",
    "    z = norm.ppf(1-alpha/2)\n",
    "\n",
    "    U = X_bar - sigma/np.sqrt(n)*z\n",
    "    V = X_bar + sigma/np.sqrt(n)*z\n",
    "\n",
    "    if U <= mu and mu <= V:\n",
    "        print(\"mu = \", mu,\" is in the \", confidenceLevel,\"% confidence interval     [\", U, \",\", V, \"]\", sep=\"\")\n",
    "    else:\n",
    "        print(\"mu = \", mu, \" is NOT in the \", confidenceLevel,\"% confidence interval [\", U, \",\", V, \"]\", sep=\"\")\n"
   ]
  },
  {
   "cell_type": "code",
   "execution_count": 843,
   "metadata": {},
   "outputs": [
    {
     "name": "stdout",
     "output_type": "stream",
     "text": [
      "mu = 7 is in the 98% confidence interval 97.6% of the time\n"
     ]
    }
   ],
   "source": [
    "# fissiamo un livello di confidenza e contiamo quante volte la media cade effettivamente nell'intervallo\n",
    "\n",
    "# caso della media incognita, varianza nota \n",
    "\n",
    "confidenceLevel = 98\n",
    "\n",
    "alpha = 1-confidenceLevel/100\n",
    "\n",
    "z = norm.isf(alpha/2)\n",
    "\n",
    "successes = 0\n",
    "trials = 1000\n",
    "\n",
    "for i in range(trials):\n",
    "\n",
    "    \n",
    "    X = np.random.normal(mu,sigma,n)\n",
    "    X_bar = 1/n*np.sum(X)\n",
    "\n",
    "    U = X_bar - sigma/np.sqrt(n)*z\n",
    "    V = X_bar + sigma/np.sqrt(n)*z\n",
    "\n",
    "    if U <= mu and mu <= V:\n",
    "       successes = successes + 1\n",
    "        \n",
    "print(\"mu = \", mu,\" is in the \", confidenceLevel,\"% confidence interval \", successes/trials*100,\"% of the time\", sep=\"\")\n"
   ]
  },
  {
   "cell_type": "code",
   "execution_count": 844,
   "metadata": {},
   "outputs": [
    {
     "name": "stdout",
     "output_type": "stream",
     "text": [
      "sigma^2 = 4 is in the 98% confidence interval 97.7% of the time\n"
     ]
    }
   ],
   "source": [
    "# caso della media nota, varianza incognita \n",
    "\n",
    "confidenceLevel = 98\n",
    "\n",
    "alpha = 1-confidenceLevel/100\n",
    "\n",
    "chi_1 = chi2.isf(alpha/2,n)\n",
    "chi_2 = chi2.isf(1-alpha/2,n)\n",
    "\n",
    "successes = 0\n",
    "trials = 1000\n",
    "    \n",
    "for i in range(trials):\n",
    "    \n",
    "    X = np.random.normal(mu,sigma,n)\n",
    "    Y = 1/n*np.sum((X-mu)**2)\n",
    "\n",
    "    U = n/chi_1*Y \n",
    "    V = n/chi_2*Y\n",
    "\n",
    "    if U <= sigma**2 and sigma**2 <= V:\n",
    "       successes = successes + 1\n",
    "        \n",
    "print(\"sigma^2 = \", sigma**2,\" is in the \", confidenceLevel,\"% confidence interval \", successes/trials*100,\"% of the time\", sep=\"\")\n"
   ]
  },
  {
   "cell_type": "code",
   "execution_count": 845,
   "metadata": {},
   "outputs": [
    {
     "name": "stdout",
     "output_type": "stream",
     "text": [
      "sigma^2 = 4 is in the 90% confidence interval 91.10000000000001% of the time\n",
      "mu = 7 is in the 90% confidence interval 89.8% of the time\n"
     ]
    }
   ],
   "source": [
    "# caso della media incognita, varianza incognita \n",
    "\n",
    "confidenceLevel = 90\n",
    "\n",
    "alpha = 1-confidenceLevel/100\n",
    "\n",
    "chi_1 = chi2.isf(alpha/2,n-1)\n",
    "chi_2 = chi2.isf(1-alpha/2,n-1)\n",
    "\n",
    "t1 = t.isf(alpha/2,n-1)\n",
    "\n",
    "successes_mu = 0\n",
    "successes_sigma = 0\n",
    "trials = 1000\n",
    "\n",
    "    \n",
    "for i in range(trials):\n",
    "    \n",
    "    X = np.random.normal(mu,sigma,n)\n",
    "    \n",
    "    X_bar = 1/n*np.sum(X)\n",
    "    S2 = 1/(n-1)*np.sum((X-X_bar)**2)\n",
    "\n",
    "    U = (n-1)/chi_1*S2 \n",
    "    V = (n-1)/chi_2*S2 \n",
    "\n",
    "    if U <= sigma**2 and sigma**2 <= V:\n",
    "       successes_sigma = successes_sigma + 1\n",
    "       \n",
    "    S = np.sqrt(S2)\n",
    "    \n",
    "    U = X_bar - S/np.sqrt(n)*t1\n",
    "    V = X_bar + S/np.sqrt(n)*t1\n",
    "\n",
    "    if U <= mu and mu <= V:\n",
    "       successes_mu = successes_mu + 1\n",
    "    \n",
    "        \n",
    "print(\"sigma^2 = \", sigma**2,\" is in the \", confidenceLevel,\"% confidence interval \", successes_sigma/trials*100,\"% of the time\", sep=\"\")\n",
    "print(\"mu = \", mu,\" is in the \", confidenceLevel,\"% confidence interval \", successes_mu/trials*100,\"% of the time\", sep=\"\")"
   ]
  }
 ],
 "metadata": {
  "interpreter": {
   "hash": "aee8b7b246df8f9039afb4144a1f6fd8d2ca17a180786b69acc140d282b71a49"
  },
  "kernelspec": {
   "display_name": "Python 3.9.0 64-bit",
   "language": "python",
   "name": "python3"
  },
  "language_info": {
   "codemirror_mode": {
    "name": "ipython",
    "version": 3
   },
   "file_extension": ".py",
   "mimetype": "text/x-python",
   "name": "python",
   "nbconvert_exporter": "python",
   "pygments_lexer": "ipython3",
   "version": "3.9.0"
  },
  "orig_nbformat": 4
 },
 "nbformat": 4,
 "nbformat_minor": 2
}
