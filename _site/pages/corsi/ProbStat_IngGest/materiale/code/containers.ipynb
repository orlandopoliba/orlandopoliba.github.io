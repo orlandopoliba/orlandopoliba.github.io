{
 "cells": [
  {
   "cell_type": "code",
   "execution_count": 60,
   "metadata": {},
   "outputs": [],
   "source": [
    "import numpy as np\n",
    "from math import factorial\n",
    "from fractions import Fraction"
   ]
  },
  {
   "cell_type": "code",
   "execution_count": 61,
   "metadata": {},
   "outputs": [
    {
     "data": {
      "text/plain": [
       "0"
      ]
     },
     "execution_count": 61,
     "metadata": {},
     "output_type": "execute_result"
    }
   ],
   "source": [
    "# genera disposizioni\n",
    "\n",
    "n = 5 # scatole\n",
    "k = 9 # palline\n",
    "\n",
    "omega = np.zeros((n**k,k))\n",
    "\n",
    "for l in range(0,k):\n",
    "    h = 0\n",
    "    for i in range(0,n**k):\n",
    "        omega[i,l] = h\n",
    "        if i%(n**l) == n**l-1:\n",
    "            if h < n-1:\n",
    "                h = h + 1\n",
    "            else:\n",
    "                h = 0\n",
    "\n",
    "# check\n",
    "len(omega[:,0])-n**k"
   ]
  },
  {
   "cell_type": "code",
   "execution_count": 62,
   "metadata": {},
   "outputs": [
    {
     "name": "stdout",
     "output_type": "stream",
     "text": [
      "Probabilità che ciascuna scatola contenga almeno una pallina: 166824/390625 ~ 42.71%\n"
     ]
    }
   ],
   "source": [
    "possible_outcomes = n**k\n",
    "\n",
    "favorable_outcomes = 0\n",
    "for i in range(0,n**k):\n",
    "    attained_values = 0\n",
    "    for h in range(0,n): \n",
    "        if h in omega[i,:]:\n",
    "            attained_values = attained_values + 1\n",
    "    if attained_values == n:\n",
    "        favorable_outcomes = favorable_outcomes + 1\n",
    "\n",
    "print('Probabilità che ciascuna scatola contenga almeno una pallina: ', Fraction(favorable_outcomes,possible_outcomes), ' ~ ', round(favorable_outcomes/possible_outcomes*100,2), '%', sep='')\n"
   ]
  },
  {
   "cell_type": "code",
   "execution_count": 63,
   "metadata": {},
   "outputs": [
    {
     "name": "stdout",
     "output_type": "stream",
     "text": [
      "Probabilità che prima e seconda scatola contengano almeno una pallina: 289704/390625 ~ 74.16%\n"
     ]
    }
   ],
   "source": [
    "possible_outcomes = n**k\n",
    "\n",
    "favorable_outcomes = 0\n",
    "for i in range(0,n**k):\n",
    "    attained_values = 0\n",
    "    for h in range(0,2): \n",
    "        if h in omega[i,:]:\n",
    "            attained_values = attained_values + 1\n",
    "    if attained_values == 2:\n",
    "        favorable_outcomes = favorable_outcomes + 1\n",
    "\n",
    "print('Probabilità che prima e seconda scatola contengano almeno una pallina: ', Fraction(favorable_outcomes,possible_outcomes), ' ~ ', round(favorable_outcomes/possible_outcomes*100,2), '%', sep='')"
   ]
  },
  {
   "cell_type": "code",
   "execution_count": 71,
   "metadata": {},
   "outputs": [
    {
     "name": "stdout",
     "output_type": "stream",
     "text": [
      "Probabilità che la prima scatola contenga esattamente una pallina: 589824/1953125 ~ 30.2%\n"
     ]
    }
   ],
   "source": [
    "possible_outcomes = n**k\n",
    "\n",
    "favorable_outcomes = 0\n",
    "for i in range(0,n**k):\n",
    "    occurrences = 0\n",
    "    for h in range(k):\n",
    "        if omega[i,h] == 0:\n",
    "            occurrences = occurrences + 1\n",
    "    if occurrences == 1:\n",
    "        favorable_outcomes = favorable_outcomes + 1\n",
    "        \n",
    "print('Probabilità che la prima scatola contenga esattamente una pallina: ', Fraction(favorable_outcomes,possible_outcomes), ' ~ ', round(favorable_outcomes/possible_outcomes*100,2), '%', sep='')\n",
    "    "
   ]
  }
 ],
 "metadata": {
  "interpreter": {
   "hash": "aee8b7b246df8f9039afb4144a1f6fd8d2ca17a180786b69acc140d282b71a49"
  },
  "kernelspec": {
   "display_name": "Python 3.9.0 64-bit",
   "language": "python",
   "name": "python3"
  },
  "language_info": {
   "codemirror_mode": {
    "name": "ipython",
    "version": 3
   },
   "file_extension": ".py",
   "mimetype": "text/x-python",
   "name": "python",
   "nbconvert_exporter": "python",
   "pygments_lexer": "ipython3",
   "version": "3.9.0"
  },
  "orig_nbformat": 4
 },
 "nbformat": 4,
 "nbformat_minor": 2
}
