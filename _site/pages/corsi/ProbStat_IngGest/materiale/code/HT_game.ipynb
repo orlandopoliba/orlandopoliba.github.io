{
 "cells": [
  {
   "cell_type": "code",
   "execution_count": 4,
   "metadata": {},
   "outputs": [
    {
     "name": "stdout",
     "output_type": "stream",
     "text": [
      "Hai scelto: CC\n",
      "Il tuo avversario ha scelto: TC\n",
      "Hai vinto 249 su 1000 partite: il 24.9%\n"
     ]
    }
   ],
   "source": [
    "import numpy as np\n",
    "\n",
    "best_response = {\n",
    "    'TT': 'CT',\n",
    "    'TC': 'TT',\n",
    "    'CT': 'CC',\n",
    "    'CC': 'TC'\n",
    "} \n",
    "\n",
    "G1_choice = ''\n",
    "while G1_choice not in ['TT','TC','CT','CC']:\n",
    "    G1_choice = input('Scegli tra: TT, TC, CT, CC')\n",
    "print('Hai scelto:', G1_choice)\n",
    "\n",
    "G2_choice = best_response[G1_choice]\n",
    "\n",
    "print('Il tuo avversario ha scelto:', G2_choice)\n",
    "\n",
    "n = 1000\n",
    "G1_victories = 0\n",
    "\n",
    "for match in range(1,n+1):\n",
    "    game_over = False\n",
    "    # initialize previous coin\n",
    "    previous_coin = ''\n",
    "    sequence = ''\n",
    "    while not game_over:\n",
    "        # flip coin\n",
    "        X = np.random.binomial(1,1/2)\n",
    "        if X == 0:\n",
    "            new_coin = 'C'\n",
    "        else:\n",
    "            new_coin = 'T'\n",
    "        new_pair = previous_coin + new_coin\n",
    "        sequence = sequence + new_coin\n",
    "        #print(sequence)\n",
    "        if new_pair == G1_choice:\n",
    "            game_over = True\n",
    "            G1_victories = G1_victories + 1\n",
    "            #print('Hai vinto!');\n",
    "        elif new_pair == G2_choice:\n",
    "            game_over = True\n",
    "            #print('Hai perso...');\n",
    "        else:\n",
    "            previous_coin = new_coin\n",
    "        \n",
    "print('Hai vinto ', G1_victories, ' su ', n, ' partite: il ', round(G1_victories/n*100,2), '%', sep='')"
   ]
  },
  {
   "cell_type": "code",
   "execution_count": null,
   "metadata": {},
   "outputs": [],
   "source": []
  }
 ],
 "metadata": {
  "interpreter": {
   "hash": "aee8b7b246df8f9039afb4144a1f6fd8d2ca17a180786b69acc140d282b71a49"
  },
  "kernelspec": {
   "display_name": "Python 3.9.0 64-bit",
   "language": "python",
   "name": "python3"
  },
  "language_info": {
   "codemirror_mode": {
    "name": "ipython",
    "version": 3
   },
   "file_extension": ".py",
   "mimetype": "text/x-python",
   "name": "python",
   "nbconvert_exporter": "python",
   "pygments_lexer": "ipython3",
   "version": "3.9.0"
  },
  "orig_nbformat": 4
 },
 "nbformat": 4,
 "nbformat_minor": 2
}
