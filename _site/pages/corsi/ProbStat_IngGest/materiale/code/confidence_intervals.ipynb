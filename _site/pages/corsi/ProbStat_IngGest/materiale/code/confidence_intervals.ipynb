{
 "cells": [
  {
   "cell_type": "code",
   "execution_count": 129,
   "metadata": {},
   "outputs": [],
   "source": [
    "import numpy as np\n",
    "import math\n",
    "from scipy.stats import norm, chi2, t"
   ]
  },
  {
   "cell_type": "code",
   "execution_count": 130,
   "metadata": {},
   "outputs": [],
   "source": [
    "# parametri della popolazione\n",
    "\n",
    "mu = 7 # facciamo finta di non conoscerlo\n",
    "sigma = 2 # facciamo finta di conoscerlo"
   ]
  },
  {
   "cell_type": "code",
   "execution_count": 131,
   "metadata": {},
   "outputs": [
    {
     "name": "stdout",
     "output_type": "stream",
     "text": [
      "[ 9.53728818  8.88827774  7.39105049  7.32155545 10.40842506 11.50440538\n",
      "  7.23839254  7.32614225  7.3371447   9.0002519   6.16163912  6.54607266\n",
      "  3.65463095  6.93448144  5.7662098 ]\n"
     ]
    }
   ],
   "source": [
    "# campione estratto\n",
    "\n",
    "n = 15\n",
    "\n",
    "# np.random.normal accetta come parametri mu e sigma (non sigma^2)\n",
    "X = np.random.normal(mu,sigma,n)\n",
    "\n",
    "print(X)"
   ]
  },
  {
   "cell_type": "code",
   "execution_count": 132,
   "metadata": {},
   "outputs": [
    {
     "name": "stdout",
     "output_type": "stream",
     "text": [
      "7.667731176843163\n"
     ]
    }
   ],
   "source": [
    "# calcoliamo la media del campione\n",
    "\n",
    "X_bar = 1/n*np.sum(X)\n",
    "\n",
    "print(X_bar)"
   ]
  },
  {
   "cell_type": "code",
   "execution_count": 133,
   "metadata": {},
   "outputs": [
    {
     "name": "stdout",
     "output_type": "stream",
     "text": [
      "2.2701249980205214\n",
      "2.2701249980205214\n"
     ]
    }
   ],
   "source": [
    "# questa funzione calcola l'inversa della funzione di distribuzione cumulativa della gaussiana, quindi la usiamo per calcolare i quantili\n",
    "\n",
    "print(norm.ppf(0.9884))\n",
    "print(norm.isf(1-0.9884))"
   ]
  },
  {
   "cell_type": "code",
   "execution_count": 134,
   "metadata": {},
   "outputs": [
    {
     "name": "stdout",
     "output_type": "stream",
     "text": [
      "mu = 7 is NOT in the 50% confidence interval [7.319426167550226,8.0160361861361]\n",
      "mu = 7 is NOT in the 55% confidence interval [7.277636534633972,8.057825819052354]\n",
      "mu = 7 is NOT in the 60% confidence interval [7.233119840650838,8.102342513035488]\n",
      "mu = 7 is NOT in the 65% confidence interval [7.185111342193645,8.150351011492681]\n",
      "mu = 7 is NOT in the 70% confidence interval [7.132519275914796,8.20294307777153]\n",
      "mu = 7 is NOT in the 75% confidence interval [7.073693311174323,8.261769042512004]\n",
      "mu = 7 is NOT in the 80% confidence interval [7.005940794088459,8.329521559597866]\n",
      "mu = 7 is in the 85% confidence interval     [6.924360321738349,8.411102031947978]\n",
      "mu = 7 is in the 90% confidence interval     [6.8183324162922405,8.517129937394085]\n",
      "mu = 7 is in the 95% confidence interval     [6.655610127337836,8.67985222634849]\n"
     ]
    }
   ],
   "source": [
    "# calcoliamo una realizzazione degli estremi dell'intervallo di confidenza\n",
    "\n",
    "# caso della media incognita, varianza nota \n",
    "\n",
    "# facciamo una lista degli intervalli al variare del livello di confidenza\n",
    "\n",
    "for confidenceLevel in range(50,100,5):\n",
    "\n",
    "    alpha = 1-confidenceLevel/100\n",
    "\n",
    "    z = norm.ppf(1-alpha/2)\n",
    "\n",
    "    U = X_bar - sigma/np.sqrt(n)*z\n",
    "    V = X_bar + sigma/np.sqrt(n)*z\n",
    "\n",
    "    if U <= mu and mu <= V:\n",
    "        print(\"mu = \", mu,\" is in the \", confidenceLevel,\"% confidence interval     [\", U, \",\", V, \"]\", sep=\"\")\n",
    "    else:\n",
    "        print(\"mu = \", mu, \" is NOT in the \", confidenceLevel,\"% confidence interval [\", U, \",\", V, \"]\", sep=\"\")\n"
   ]
  },
  {
   "cell_type": "code",
   "execution_count": 135,
   "metadata": {},
   "outputs": [
    {
     "name": "stdout",
     "output_type": "stream",
     "text": [
      "mu = 7 is in the 98% confidence interval 97.6% of the time\n"
     ]
    }
   ],
   "source": [
    "# fissiamo un livello di confidenza e contiamo quante volte la media cade effettivamente nell'intervallo\n",
    "\n",
    "# caso della media incognita, varianza nota \n",
    "\n",
    "confidenceLevel = 98\n",
    "\n",
    "alpha = 1-confidenceLevel/100\n",
    "\n",
    "z = norm.isf(alpha/2)\n",
    "\n",
    "successes = 0\n",
    "trials = 1000\n",
    "\n",
    "for i in range(trials):\n",
    "\n",
    "    \n",
    "    X = np.random.normal(mu,sigma,n)\n",
    "    X_bar = 1/n*np.sum(X)\n",
    "\n",
    "    U = X_bar - sigma/np.sqrt(n)*z\n",
    "    V = X_bar + sigma/np.sqrt(n)*z\n",
    "\n",
    "    if U <= mu and mu <= V:\n",
    "       successes = successes + 1\n",
    "        \n",
    "print(\"mu = \", mu,\" is in the \", confidenceLevel,\"% confidence interval \", successes/trials*100,\"% of the time\", sep=\"\")\n"
   ]
  },
  {
   "cell_type": "code",
   "execution_count": 136,
   "metadata": {},
   "outputs": [
    {
     "name": "stdout",
     "output_type": "stream",
     "text": [
      "sigma^2 = 4 is in the 90% confidence interval 91.10000000000001% of the time\n",
      "mu = 7 is in the 90% confidence interval 90.3% of the time\n"
     ]
    }
   ],
   "source": [
    "# caso della media incognita, varianza incognita \n",
    "\n",
    "confidenceLevel = 90\n",
    "\n",
    "alpha = 1-confidenceLevel/100\n",
    "\n",
    "chi_1 = chi2.isf(alpha/2,n-1)\n",
    "chi_2 = chi2.isf(1-alpha/2,n-1)\n",
    "\n",
    "t1 = t.isf(alpha/2,n-1)\n",
    "\n",
    "successes_mu = 0\n",
    "successes_sigma = 0\n",
    "trials = 1000\n",
    "\n",
    "    \n",
    "for i in range(trials):\n",
    "    \n",
    "    X = np.random.normal(mu,sigma,n)\n",
    "    \n",
    "    X_bar = 1/n*np.sum(X)\n",
    "    S2 = 1/(n-1)*np.sum((X-X_bar)**2)\n",
    "\n",
    "    U = (n-1)/chi_1*S2 \n",
    "    V = (n-1)/chi_2*S2 \n",
    "\n",
    "    if U <= sigma**2 and sigma**2 <= V:\n",
    "       successes_sigma = successes_sigma + 1\n",
    "       \n",
    "    S = np.sqrt(S2)\n",
    "    \n",
    "    U = X_bar - S/np.sqrt(n)*t1\n",
    "    V = X_bar + S/np.sqrt(n)*t1\n",
    "\n",
    "    if U <= mu and mu <= V:\n",
    "       successes_mu = successes_mu + 1\n",
    "    \n",
    "        \n",
    "print(\"sigma^2 = \", sigma**2,\" is in the \", confidenceLevel,\"% confidence interval \", successes_sigma/trials*100,\"% of the time\", sep=\"\")\n",
    "print(\"mu = \", mu,\" is in the \", confidenceLevel,\"% confidence interval \", successes_mu/trials*100,\"% of the time\", sep=\"\")"
   ]
  }
 ],
 "metadata": {
  "interpreter": {
   "hash": "aee8b7b246df8f9039afb4144a1f6fd8d2ca17a180786b69acc140d282b71a49"
  },
  "kernelspec": {
   "display_name": "Python 3.9.0 64-bit",
   "language": "python",
   "name": "python3"
  },
  "language_info": {
   "codemirror_mode": {
    "name": "ipython",
    "version": 3
   },
   "file_extension": ".py",
   "mimetype": "text/x-python",
   "name": "python",
   "nbconvert_exporter": "python",
   "pygments_lexer": "ipython3",
   "version": "3.9.0"
  },
  "orig_nbformat": 4
 },
 "nbformat": 4,
 "nbformat_minor": 2
}
