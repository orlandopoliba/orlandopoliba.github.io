{
 "cells": [
  {
   "cell_type": "markdown",
   "metadata": {},
   "source": [
    "# Legge binomiale\n",
    "\n",
    "Ricordiamo che se $X \\sim \\mathrm{B}(n,p)$ allora \n",
    "$$\n",
    "\\mathbb{P}(\\{X = k\\}) = \\binom{n}{k} p^k (1-p)^{n-k} \\, .\n",
    "$$"
   ]
  },
  {
   "cell_type": "markdown",
   "metadata": {},
   "source": [
    "Importiamo le librerie necessarie."
   ]
  },
  {
   "cell_type": "code",
   "execution_count": 96,
   "metadata": {},
   "outputs": [],
   "source": [
    "import numpy as np\n",
    "from math import comb\n",
    "import matplotlib.pyplot as plt\n",
    "\n",
    "from ipywidgets import interactive\n",
    "\n",
    "%matplotlib inline"
   ]
  },
  {
   "cell_type": "markdown",
   "metadata": {},
   "source": [
    "Definiamo la funzione che disegna la funzione di massa di probabilità di una variabile aleatoria distribuita con legge binomiale."
   ]
  },
  {
   "cell_type": "code",
   "execution_count": 97,
   "metadata": {},
   "outputs": [],
   "source": [
    "def plot_binomial(n=1,p=0.5):\n",
    "  n_max = 11\n",
    "  binomial_value = np.zeros(n_max)\n",
    "  for k in range(min(n_max,n+1)):\n",
    "      binomial_value[k] = comb(n,k)*(p**k)*((1-p)**(n-k))  \n",
    "  fig, ax = plt.subplots(1, 1)\n",
    "  ax.set_ylim(0,1)\n",
    "  ax.set_xticks(range(n_max))\n",
    "  ax.bar(range(n_max), binomial_value, color=['teal']) "
   ]
  },
  {
   "cell_type": "markdown",
   "metadata": {},
   "source": [
    "Il seguente codice crea un plot interattivo. Si possono modificare $n$ e $p$ e osservare come cambia l'aspetto del grafico della funzione di massa di probabilità di una variabile aleatoria distribuita con legge binomiale."
   ]
  },
  {
   "cell_type": "code",
   "execution_count": 98,
   "metadata": {},
   "outputs": [
    {
     "data": {
      "application/vnd.jupyter.widget-view+json": {
       "model_id": "325fb6349e8c48ff985cf41e51cd6e21",
       "version_major": 2,
       "version_minor": 0
      },
      "text/plain": [
       "interactive(children=(IntSlider(value=1, description='n', max=10, min=1), FloatSlider(value=0.5, description='…"
      ]
     },
     "execution_count": 98,
     "metadata": {},
     "output_type": "execute_result"
    }
   ],
   "source": [
    "interactive_plot = interactive(plot_binomial, n=(1,10,1), p=(0.1,0.9,0.01))\n",
    "interactive_plot "
   ]
  }
 ],
 "metadata": {
  "interpreter": {
   "hash": "aee8b7b246df8f9039afb4144a1f6fd8d2ca17a180786b69acc140d282b71a49"
  },
  "kernelspec": {
   "display_name": "Python 3.9.0 64-bit",
   "language": "python",
   "name": "python3"
  },
  "language_info": {
   "codemirror_mode": {
    "name": "ipython",
    "version": 3
   },
   "file_extension": ".py",
   "mimetype": "text/x-python",
   "name": "python",
   "nbconvert_exporter": "python",
   "pygments_lexer": "ipython3",
   "version": "3.11.5"
  },
  "orig_nbformat": 4
 },
 "nbformat": 4,
 "nbformat_minor": 2
}
